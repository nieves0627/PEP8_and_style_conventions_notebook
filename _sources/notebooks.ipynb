{
    "cells": [
     {
      "cell_type": "markdown",
      "metadata": {},
      "source": [
       "# PEP 8 and style conventions | Autoformatters (Black, Flake8) | Pylint\n",
       "\n",
       "Created by: Juliana Alejandra Gutierrez Castro\n",
       "Created time: July 29, 2024 5:23 PM\n",
       "\n",
       "# **How to Write Beautiful Python Code With PEP 8**\n",
       "\n",
       "PEP 8, sometimes spelled PEP8 or PEP-8, is a document that provides guidelines and best practices on *how* to write Python code. It was written in 2001 by [Guido van Rossum](https://en.wikipedia.org/wiki/Guido_van_Rossum), [Barry Warsaw](https://barry.warsaw.us/), and [Alyssa Coghlan](https://github.com/ncoghlan). The primary focus of PEP 8 is to improve the **readability** and **consistency** of Python code.\n",
       "\n",
       "PEP stands for **Python Enhancement Proposal**, and there are [many PEPs](https://peps.python.org/). These documents primarily describe new features proposed for the Python language, but some PEPs also focus on design and style and aim to serve as a resource for the community. PEP 8 is one of these style-focused PEPs.\n",
       "\n",
       "## **Naming Conventions**\n",
       "\n",
       "“Explicit is better than implicit.”\n",
       "\n",
       "- One suggestion is to never use `l`, `O`, or `I` single letter names as these can be mistaken for `1` and `0`, depending on what [typeface](https://realpython.com/coding-font/) a programmer uses. Doing this may look like you’re trying to reassign `2` to zero. While making such a reassignment isn’t possible in Python and will cause a [syntax error](https://realpython.com/python-exceptions/), using an ambigious variable name such as `O` can make your code more confusing and harder to read and reason about.\n",
       "- Booleans should be named using ‘is’ or ‘has’ prefixes. Constants should be all caps with underscores:"
      ]
     },
     {
      "cell_type": "code",
      "execution_count": null,
      "metadata": {
       "tags": []
      },
      "outputs": [],
      "source": [
       "# Booleans\n",
       "is_active = True\n",
       "has_permissions = False\n",
       "\n",
       "# Constants\n",
       "MAX_SIZE = 100\n",
       "CONNECTION_TIMEOUT = 50"
      ]
     },
     {
      "cell_type": "markdown",
      "metadata": {},
      "source": [
       "- Use verbs for function names. Function names should clearly describe the action being performed and use a verb to start:"
      ]
     },
     {
      "cell_type": "code",
      "execution_count": null,
      "metadata": {
       "tags": []
      },
      "outputs": [],
      "source": [
       "# Good function names\n",
       "def get_user_data():\n",
       "  ...\n",
       "\n",
       "def calculate_average(numbers):\n",
       "  ..."
      ]
     },
     {
      "cell_type": "markdown",
      "metadata": {},
      "source": [
       "### **Naming Styles**\n",
       "\n",
       "The table below outlines some of the common naming styles in Python code and when you should use them:\n",
       "\n",
       "| **Type** | **Naming Convention** | **Examples** |\n",
       "| --- | --- | --- |\n",
       "| Function | Use a lowercase word or words. Separate words by underscores to improve readability. | function, python_function |\n",
       "| Variable | Use a lowercase single letter, word, or words. Separate words with underscores to improve readability. | x, var, python_variable |\n",
       "| Class | Start each word with a capital letter. Don’t separate words with underscores. This style is called camel case or Pascal case. | Model, PythonClass |\n",
       "| Method | Use a lowercase word or words. Separate words with underscores to improve readability. | class_method, method |\n",
       "| Constant | Use an uppercase single letter, word, or words. Separate words with underscores to improve readability. | CONSTANT, PYTHON_CONSTANT, PYTHON_LONG_CONSTANT |\n",
       "| Module | Use a short, lowercase word or words. Separate words with underscores to improve readability. | module.py, python_module.py |\n",
       "| Package | Use a short, lowercase word or words. Don’t separate words with underscores. | package, pythonpackage |\n",
       "\n",
       "### **How to Choose Names**\n",
       "\n",
       "The best way to name your objects in Python is to use descriptive names to make it clear what the object represents.\n",
       "\n",
       "When naming variables, you may be tempted to choose simple, single-letter lowercase names, like `x`. But unless you’re using `x` as the argument of a mathematical function, it’s not clear what `x` represents"
      ]
     },
     {
      "cell_type": "code",
      "execution_count": null,
      "metadata": {
       "tags": []
      },
      "outputs": [],
      "source": [
       "name = \"John Smith\"\n",
       "first_name, last_name = name.split()\n",
       "print(f\"{last_name}, {first_name}\")"
      ]
     },
     {
      "cell_type": "markdown",
      "metadata": {},
      "source": [
       "Similarly, to reduce the amount of typing you do, it can be tempting to use abbreviations when choosing names."
      ]
     },
     {
      "cell_type": "code",
      "execution_count": null,
      "metadata": {
       "tags": []
      },
      "outputs": [],
      "source": [
       "def multiply_by_two(x):\n",
       "    return x * 2"
      ]
     },
     {
      "cell_type": "markdown",
      "metadata": {},
      "source": [
       "## **Code Layout**\n",
       "\n",
       "How you lay out your code has a huge role in how readable it is. In this section, you’ll learn how to add vertical whitespace to improve the readability of your code. You’ll also learn how to handle the 79-character line limit recommended in PEP 8.\n",
       "\n",
       "### **Blank Lines:**\n",
       "\n",
       "Vertical whitespace, or blank lines, can greatly improve the readability of your code. Code that’s bunched up together can be overwhelming and hard to read. Similarly, too many blank lines in your code makes it look very sparse, and the reader might need to scroll more than necessary. Below are three key guidelines on how to use vertical whitespace.\n",
       "\n",
       "- **Surround top-level functions and classes with two blank lines.** Top-level functions and classes should be fairly self-contained and handle separate functionality. It makes sense to put extra vertical space around them, so that it’s clear they are separate:"
      ]
     },
     {
      "cell_type": "code",
      "execution_count": null,
      "metadata": {
       "tags": []
      },
      "outputs": [],
      "source": [
       "class FirstClass:\n",
       "    pass\n",
       "\n",
       "class SecondClass:\n",
       "    pass\n",
       "\n",
       "def top_level_function():\n",
       "    return None"
      ]
     },
     {
      "cell_type": "markdown",
      "metadata": {},
      "source": [
       "- **Surround method definitions inside classes with a single blank line.** Methods inside a class are all related to one another. It’s good practice to leave only a single line between them:"
      ]
     },
     {
      "cell_type": "code",
      "execution_count": null,
      "metadata": {
       "tags": []
      },
      "outputs": [],
      "source": [
       "class ClassWithMethods:\n",
       "    def first_method(self):\n",
       "        return None\n",
       "\n",
       "    def second_method(self):\n",
       "        return None"
      ]
     },
     {
      "cell_type": "markdown",
      "metadata": {},
      "source": [
       "    In the code example, you can see a class definition with two [instance methods](https://realpython.com/instance-class-and-static-methods-demystified/) that are separated from one another with a single blank line.\n",
       "    \n",
       "- **Use blank lines sparingly inside functions to show clear steps.** Sometimes, a complicated function has to complete several steps before the [`return` statement](https://realpython.com/python-return-statement/). To help the reader understand the logic inside the function, you can leave a blank line between each logical step.\n",
       "    \n",
       "    In the example below, there’s a function to calculate the [variance](https://en.wikipedia.org/wiki/Variance) of a [list](https://realpython.com/python-list/). This is two-step problem, so you can indicate the two separate steps by leaving a blank line between them:"
      ]
     },
     {
      "cell_type": "code",
      "execution_count": null,
      "metadata": {
       "tags": []
      },
      "outputs": [],
      "source": [
       "def calculate_variance(numbers):\n",
       "    sum_numbers = 0\n",
       "    for number in numbers:\n",
       "        sum_numbers = sum_numbers + number\n",
       "    mean = sum_numbers / len(numbers)\n",
       "\n",
       "    sum_squares = 0\n",
       "    for number in numbers:\n",
       "        sum_squares = sum_squares + number**2\n",
       "    mean_squares = sum_squares / len(numbers)\n",
       "\n",
       "    return mean_squares - mean**2"
      ]
     },
     {
      "cell_type": "markdown",
      "metadata": {},
      "source": [
       "    In this code example, you separated the logical steps with a blank line in between them to improve readability. There is also a blank line before the `return` statement. This helps the reader clearly see what the function returns.\n",
       "    \n",
       "\n",
       "### **Maximum Line Length and Line Breaking**\n",
       "\n",
       "PEP 8 suggests lines should be limited to 79 characters. This allows you to have multiple files open next to one another, while also avoiding line wrapping.\n",
       "\n",
       "Of course, keeping statements to 79 characters or fewer isn’t always possible. Therefore, PEP 8 also outlines ways to allow statements to run over several lines.\n",
       "\n",
       "Python will assume line continuation if code is contained within [parentheses, brackets, or braces](https://en.wikipedia.org/wiki/Bracket):"
      ]
     },
     {
      "cell_type": "code",
      "execution_count": null,
      "metadata": {
       "tags": []
      },
      "outputs": [],
      "source": [
       "def function(arg_one, arg_two,\n",
       "             arg_three, arg_four):\n",
       "    return arg_one"
      ]
     },
     {
      "cell_type": "markdown",
      "metadata": {},
      "source": [
       "In this example, you moved `arg_three` and `arg_four` onto a new line, indented at the same level as the first argument. You can split your code like that because of Python’s implicit line joining inside of parentheses.\n",
       "If it’s impossible to use implied continuation, then you can use backslashes (`\\`) to break lines instead:"
      ]
     },
     {
      "cell_type": "raw",
      "metadata": {},
      "source": [
       "from package import example1, \\\n",
       "    example2, example3"
      ]
     },
     {
      "cell_type": "markdown",
      "metadata": {},
      "source": [
       "However, any time that you *can* use implied continuation, then you should prefer that over using a backslash.\n",
       "\n",
       "If you need to break a line around binary operators, like `+` and `*`, then you should do so *before* the operator. This rule stems from mathematics. Mathematicians agree that breaking before binary operators improves readability. Compare the following two examples.\n",
       "\n",
       "Below is an example of breaking before a binary operator:"
      ]
     },
     {
      "cell_type": "raw",
      "metadata": {},
      "source": [
       "total = (first_variable\n",
       "         + second_variable\n",
       "         - third_variable)"
      ]
     },
     {
      "cell_type": "markdown",
      "metadata": {},
      "source": [
       "## **Indentation**\n",
       "\n",
       "The key indentation rules laid out by PEP 8 are the following:\n",
       "\n",
       "- Use four consecutive spaces to indicate indentation.\n",
       "- Prefer spaces over tabs.\n",
       "\n",
       "While Python code will work with any amount of *consistent* indentation, four spaces is a widespread convention in the Python community, and you should stick to it as well.\n",
       "\n",
       "### **Tabs vs Spaces**\n",
       "\n",
       "As mentioned above, you should use spaces instead of tabs when indenting your code. You can adjust the settings in your text editor to output four spaces instead of a tab character when you press the Tab key.\n",
       "\n",
       "Python 3 doesn’t allow mixing of tabs and spaces.\n",
       "\n",
       "If you’re using Python 3 and run code that mixes tabs and spaces, then you’ll get an error:"
      ]
     },
     {
      "cell_type": "code",
      "execution_count": null,
      "metadata": {
       "tags": []
      },
      "outputs": [],
      "source": [
       "!python mixed_indentation.py\n",
       "  File \"./mixed_indentation.py\", line 4\n",
       "    print(\"World\")  # Indented with a tab."
      ]
     },
     {
      "cell_type": "markdown",
      "metadata": {},
      "source": [
       "You *can* write Python code with either tabs or spaces indicating indentation. But, if you’re using Python 3, then you must be consistent with your choice. Otherwise, your code won’t run.\n",
       "\n",
       "### **Indentation Following Line Breaks**\n",
       "\n",
       "When you’re using line continuations to keep lines under 79 characters, it’s useful to use indentation to improve readability. It allows the reader to distinguish between two lines of code and a single line of code that spans two lines. There are two styles of indentation you can use:\n",
       "\n",
       "1. Alignment with the opening delimiter\n",
       "2. Hanging indent\n",
       "\n",
       "The first of these two is to **align the indented block with the opening delimiter**:"
      ]
     },
     {
      "cell_type": "code",
      "execution_count": null,
      "metadata": {
       "tags": []
      },
      "outputs": [],
      "source": [
       "def function(arg_one, arg_two,\n",
       "             arg_three, arg_four):\n",
       "    return arg_one"
      ]
     },
     {
      "cell_type": "markdown",
      "metadata": {},
      "source": [
       "An alternative style of indentation following a line break is a **hanging indent**. This is a typographical term meaning that every line but the first in a paragraph or statement is indented. You can use a hanging indent to visually represent a continuation of a line of code"
      ]
     },
     {
      "cell_type": "raw",
      "metadata": {},
      "source": [
       "var = function(\n",
       "    arg_one, arg_two,\n",
       "    arg_three, arg_four)"
      ]
     },
     {
      "cell_type": "markdown",
      "metadata": {},
      "source": [
       "You indented the first argument, `arg_one`, using a hanging indent. Further line continuations should follow the same level of indentation as the first indented line.\n",
       "\n",
       "Note that if you’re using a hanging indent, there must not be any arguments on the first line. The following example is not PEP 8 compliant:"
      ]
     },
     {
      "cell_type": "raw",
      "metadata": {},
      "source": [
       "# Not recommended \n",
       "var = function(arg_one, arg_two,\n",
       "    arg_three, arg_four)"
      ]
     },
     {
      "cell_type": "markdown",
      "metadata": {},
      "source": [
       "When you’re using a hanging indent, then you should also add extra indentation to distinguish the continued line from code contained inside the function. The following example is difficult to read because the code inside the function is at the same indentation level as the continued lines:"
      ]
     },
     {
      "cell_type": "raw",
      "metadata": {},
      "source": [
       "# Not recommended \n",
       "def function(\n",
       "    arg_one, arg_two,\n",
       "    arg_three, arg_four):\n",
       "    return arg_one"
      ]
     },
     {
      "cell_type": "markdown",
      "metadata": {},
      "source": [
       "**Instead, it’s better to use a *double indent* on the line continuation.** This helps you to distinguish between function arguments and the function body, improving readability:"
      ]
     },
     {
      "cell_type": "code",
      "execution_count": null,
      "metadata": {
       "tags": []
      },
      "outputs": [],
      "source": [
       "def function(\n",
       "        arg_one, arg_two,\n",
       "        arg_three, arg_four):\n",
       "    return arg_one"
      ]
     },
     {
      "cell_type": "markdown",
      "metadata": {},
      "source": [
       "When you write code following the style guide for Python code, the 79-character line limit forces you to add line breaks in your code. To improve readability, you should indent a continued line to show that it’s a continued line.\n",
       "\n",
       "As shown above, there are two ways of doing this:\n",
       "\n",
       "Align the indented block with the opening delimiter.\n",
       "Use a hanging indent.\n",
       "You’re free to choose either of these two approaches for indenting your code following a line break.\n",
       "\n",
       "### **Where to Put the Closing Bracket**\n",
       "\n",
       "Line continuations allow you to break lines inside parentheses, brackets, or braces. The closing bracket may not be your primary focus when programing, but it’s still important to put it somewhere sensible. Otherwise, it can confuse the reader.\n",
       "\n",
       "PEP 8 provides two options for the position of the closing bracket in implied line continuations:\n",
       "\n",
       "- Line up the closing bracket with the first non-whitespace character of the previous line:"
      ]
     },
     {
      "cell_type": "code",
      "execution_count": null,
      "metadata": {
       "tags": []
      },
      "outputs": [],
      "source": [
       "list_of_numbers = [\n",
       "    1, 2, 3,\n",
       "    4, 5, 6,\n",
       "    7, 8, 9\n",
       "    ]"
      ]
     },
     {
      "cell_type": "markdown",
      "metadata": {},
      "source": [
       "- Line up the closing bracket with the first character of the line that starts the construct:"
      ]
     },
     {
      "cell_type": "code",
      "execution_count": null,
      "metadata": {
       "tags": []
      },
      "outputs": [],
      "source": [
       "list_of_numbers = [\n",
       "    1, 2, 3,\n",
       "    4, 5, 6,\n",
       "    7, 8, 9\n",
       "]"
      ]
     },
     {
      "cell_type": "markdown",
      "metadata": {},
      "source": [
       "## **Comments**\n",
       "\n",
       "- Purpose: Explain why certain code choices were made or clarify complex logic.\n",
       "- Used for: Specific lines or blocks of code that need additional explanation.\n",
       "- Focus: Provide insight into the reasoning behind the implementation or clarify non-obvious code.\n",
       "\n",
       "Here are some key points to remember when adding comments to your code:\n",
       "\n",
       "- Limit the line length of comments and docstrings to 72 characters.\n",
       "- Use complete sentences, starting with a capital letter.\n",
       "- Make sure to update comments if you change your code.\n",
       "\n",
       "### **Block Comments**\n",
       "\n",
       "PEP 8 provides the following rules for writing block comments:\n",
       "\n",
       "- Indent block comments to the same level as the code that they describe.\n",
       "- Start each line with a `#` followed by a single space.\n",
       "- Separate paragraphs by a line containing a single `#`.\n",
       "\n",
       "Here’s a block comment explaining the function of a `for` loop. Note that the sentence wraps to a new line to preserve the 79-character line limit:"
      ]
     },
     {
      "cell_type": "raw",
      "metadata": {
       "tags": []
      },
      "source": [
       "for number in range(0, 10):\n",
       "    # Loop over `number` ten times and print out the value of `number`\n",
       "    # followed by a newline character.\n",
       "    print(i, \"\\n\")"
      ]
     },
     {
      "cell_type": "markdown",
      "metadata": {},
      "source": [
       "Sometimes, if the code is very technical, then it’s necessary to use more than one paragraph in a block comment:"
      ]
     },
     {
      "cell_type": "raw",
      "metadata": {},
      "source": [
       "# Calculate the solution to a quadratic equation using the quadratic\n",
       "# formula.\n",
       "#\n",
       "# A quadratic equation has the following form:\n",
       "# ax**2 + bx + c = 0\n",
       "#\n",
       "# There are always two solutions to a quadratic equation, x_1 and x_2.\n",
       "x_1 = (-b + (b**2 - 4 * a * c) ** (1 / 2)) / (2 * a)\n",
       "x_2 = (-b - (b**2 - 4 * a * c) ** (1 / 2)) / (2 * a)"
      ]
     },
     {
      "cell_type": "markdown",
      "metadata": {},
      "source": [
       "### **Inline Comments**\n",
       "\n",
       "Inline comments explain a single statement in a piece of code. They’re useful to remind you, or explain to others, why a certain line of code is necessary. Here’s what PEP 8 has to say about them:\n",
       "\n",
       "- Use inline comments sparingly.\n",
       "- Write inline comments on the same line as the statement they refer to.\n",
       "- Separate inline comments from the statement by two or more spaces.\n",
       "- Start inline comments with a `#` and a single space, like block comments.\n",
       "- Don’t use them to explain the obvious.\n",
       "\n",
       "Below is an example of an inline comment:"
      ]
     },
     {
      "cell_type": "code",
      "execution_count": null,
      "metadata": {
       "tags": []
      },
      "outputs": [],
      "source": [
       "x = 5  # This is an inline comment"
      ]
     },
     {
      "cell_type": "markdown",
      "metadata": {},
      "source": [
       "<aside>\n",
       "💡 **Note:** You should write your code so that it’s self-explanatory whenever possible, and reserve comments for situations where additional explanation is necessary. For example, you might need comments to explain *why* you wrote your code in a certain way.\n",
       "Inline comments are more specific than block comments, and it’s easy to add them when they’re not necessary, which leads to clutter. You can get away with only using block comments. Unless you’re sure you need an inline comment, your code is more likely to follow the style guide for Python code if you stick to using only block comments.\n",
       "\n",
       "</aside>\n",
       "\n",
       "### **Documentation Strings**\n",
       "\n",
       "- Purpose: Explain what the code does, its inputs, outputs, and behavior.\n",
       "- Used for: Modules, functions, classes, and methods.\n",
       "- Focus: Describe the interface and functionality, not implementation details.\n",
       "\n",
       "Documentation strings, or [docstrings](https://realpython.com/documenting-python-code/#documenting-your-python-code-base-using-docstrings), are strings enclosed in triple double quotation marks (`\"\"\"`) or triple single quotation marks (`'''`) that appear on the first line of any function, class, method, or module:"
      ]
     },
     {
      "cell_type": "code",
      "execution_count": null,
      "metadata": {
       "tags": []
      },
      "outputs": [],
      "source": [
       "\"\"\"This is a docstring.\"\"\"\n",
       "\n",
       "# ..."
      ]
     },
     {
      "cell_type": "markdown",
      "metadata": {},
      "source": [
       "You use docstrings to explain and document a specific block of code. They’re an important part of Python, and you can access the docstring of an object using its `.__doc__` attribute or the `help()` function:"
      ]
     },
     {
      "cell_type": "raw",
      "metadata": {},
      "source": [
       "import documented_module\n",
       "\n",
       "documented_module.__doc__\n",
       "'This is a docstring.'\n",
       "\n",
       "help(documented_module)\n",
       "Help on module documented_module:\n",
       "\n",
       "NAME\n",
       "    documented_module - This is a docstring.\n",
       "\n",
       "FILE\n",
       "    ./documented_module.py"
      ]
     },
     {
      "cell_type": "markdown",
      "metadata": {},
      "source": [
       "While [PEP 8 mentions docstrings](https://peps.python.org/pep-0008/#documentation-strings), they represent a large enough topic that there’s a separate document, [PEP 257](https://www.python.org/dev/peps/pep-0257/) that’s entirely dedicated to docstrings.\n",
       "\n",
       "The main takeaway is that docstrings are a structured approach to documenting your Python code. You should write them for all public modules, functions, classes, and methods.\n",
       "\n",
       "**If the implementation is straightforward, then you can use a one-line docstring**, where you can keep the whole docstring on the same line:"
      ]
     },
     {
      "cell_type": "code",
      "execution_count": null,
      "metadata": {
       "tags": []
      },
      "outputs": [],
      "source": [
       "def adder(a, b):\n",
       "    \"\"\"Add a to b.\"\"\"\n",
       "    return a + b"
      ]
     },
     {
      "cell_type": "markdown",
      "metadata": {},
      "source": [
       "If the implementation is more complex, then you’ll need more lines to create a useful docstring. In that case, you should start with an **overview description** in the first line and end that line with a period.\n",
       "\n",
       "Then you can use more text to document the code object. In this part of the docstring, you can also include a **description of the arguments and return value.**\n",
       "\n",
       "Finally, you should put the three quotation marks that end a multiline docstring on a line by themselves:\n",
       "\n",
       "**Example 1**"
      ]
     },
     {
      "cell_type": "code",
      "execution_count": null,
      "metadata": {
       "tags": []
      },
      "outputs": [],
      "source": [
       "def quadratic(a, b, c):\n",
       "    \"\"\"Solve quadratic equation via the quadratic formula.\n",
       "\n",
       "    A quadratic equation has the following form:\n",
       "    ax**2 + bx + c = 0\n",
       "\n",
       "    There always two solutions to a quadratic equation: x_1 & x_2.\n",
       "    \"\"\"\n",
       "    x_1 = (-b + (b**2 - 4 * a * c) ** (1 / 2)) / (2 * a)\n",
       "    x_2 = (-b - (b**2 - 4 * a * c) ** (1 / 2)) / (2 * a)\n",
       "\n",
       "    return x_1, x_2"
      ]
     },
     {
      "cell_type": "markdown",
      "metadata": {},
      "source": [
       "**Example 2**"
      ]
     },
     {
      "cell_type": "code",
      "execution_count": null,
      "metadata": {
       "tags": []
      },
      "outputs": [],
      "source": [
       "def quick_sort(arr):\n",
       "    \"\"\"\n",
       "    Sorts a list using the quicksort algorithm.\n",
       "\n",
       "    Args:\n",
       "        arr (list): The list to be sorted.\n",
       "\n",
       "    Returns:\n",
       "        list: The sorted list.\n",
       "\n",
       "    This function implements the quicksort algorithm, which has an average\n",
       "    time complexity of O(n log n).\n",
       "    \"\"\"\n",
       "    if len(arr) <= 1:\n",
       "        return arr\n",
       "    else:\n",
       "        pivot = arr[len(arr) // 2]\n",
       "        left = [x for x in arr if x < pivot]\n",
       "        middle = [x for x in arr if x == pivot]\n",
       "        right = [x for x in arr if x > pivot]\n",
       "        \n",
       "        # Recursively sort the left and right sublists\n",
       "        # We choose the middle element as pivot to mitigate worst-case scenario\n",
       "        # for already sorted or reverse sorted input\n",
       "        return quick_sort(left) + middle + quick_sort(right)"
      ]
     },
     {
      "cell_type": "markdown",
      "metadata": {},
      "source": [
       "In this example:\n",
       "\n",
       "- The docstring explains what the function does, its parameters, return value, and gives a brief description of the algorithm used.\n",
       "- The comment explains why we chose the middle element as the pivot, which is a specific implementation detail that affects the algorithm's performance in certain scenarios.\n",
       "\n",
       "## **Whitespace in Expressions and Statements**\n",
       "\n",
       "Whitespace can be very helpful in expressions and statements—when you use it properly. If there’s not enough whitespace, then code can be difficult to read, as it’s all bunched together. However, if there’s too much whitespace, then it can be difficult to visually combine related terms in a statement.\n",
       "\n",
       "### **Whitespace Around Binary Operators**\n",
       "\n",
       "For best readability according to PEP 8, surround the following binary operators with a single space on either side:\n",
       "\n",
       "- [Assignment operators](https://realpython.com/python-assignment-operator/): `=`, `+=`, `=`, and so forth\n",
       "- **Comparisons**: `==`, `!=`, `>`, `<`. `>=`, `<=`, `is`, `is not`, [`in`](https://realpython.com/python-in-operator/), and `not in`\n",
       "- **Booleans**: [`and`](https://realpython.com/python-and-operator/), [`not`](https://realpython.com/python-not-operator/), and [`or`](https://realpython.com/python-or-operator/)\n",
       "\n",
       "When you use the equal sign (`=`) to assign a default value to an argument, don’t surround it with spaces:"
      ]
     },
     {
      "cell_type": "raw",
      "metadata": {
       "tags": []
      },
      "source": [
       "# ✅ Recommended\n",
       "def function(default_parameter=5):\n",
       "    # ...\n",
       "\n",
       "# ❌ Not recommended\n",
       "def function(default_parameter = 5):\n",
       "    # ..."
      ]
     },
     {
      "cell_type": "markdown",
      "metadata": {},
      "source": [
       "Avoiding whitespace for indicating default values for arguments keeps function and method definitions more concise.\n",
       "\n",
       "When there’s more than one operator in a statement, then it can look confusing if you add a single space before and after each operator. Instead, it’s better to only add whitespace around the operators with the lowest priority, especially when performing mathematical manipulation. Here are a couple examples:"
      ]
     },
     {
      "cell_type": "raw",
      "metadata": {},
      "source": [
       "# ✅ Recommended\n",
       "y = x**2 + 5\n",
       "z = (x+y) * (x-y)\n",
       "\n",
       "# ❌ Not recommended\n",
       "y = x ** 2 + 5\n",
       "z = (x + y) * (x - y)"
      ]
     },
     {
      "cell_type": "markdown",
      "metadata": {},
      "source": [
       "If you use whitespace to group multiple operators according to their operator precedence, then it’ll make your code better readable.\n",
       "\n",
       "You can also apply this to `if` statements where there are multiple conditions:"
      ]
     },
     {
      "cell_type": "code",
      "execution_count": null,
      "metadata": {
       "tags": []
      },
      "outputs": [],
      "source": [
       "# Not recommended\n",
       "if x > 5 and x % 2 == 0:\n",
       "    print(\"x is larger than 5 and divisible by 2!\")"
      ]
     },
     {
      "cell_type": "markdown",
      "metadata": {},
      "source": [
       "In the above example, the `and` operator has lowest priority. It may therefore be clearer to express the `if` statement as below:"
      ]
     },
     {
      "cell_type": "code",
      "execution_count": null,
      "metadata": {
       "tags": []
      },
      "outputs": [],
      "source": [
       "if x>5 and x%2==0:\n",
       "    print(\"x is larger than 5 and divisible by 2!\")"
      ]
     },
     {
      "cell_type": "markdown",
      "metadata": {},
      "source": [
       "You’re free to choose the one that’s clearer, with the caveat that you must use the same amount of whitespace on either side of the operator.\n",
       "\n",
       "In [slices](https://docs.python.org/3/c-api/slice.html), colons act as binary operators. Therefore, the rules outlined in the previous section apply, and there should be the same amount of whitespace on either side. The following examples of list slices are valid:"
      ]
     },
     {
      "cell_type": "raw",
      "metadata": {},
      "source": [
       "a_list[3:4]\n",
       "\n",
       "# Treat the colon as the operator with lowest priority.\n",
       "a_list[x+1 : x+2]\n",
       "\n",
       "# In an extended slice, you must surround both colons\n",
       "# with the same amount of whitespace.\n",
       "a_list[3:4:5]\n",
       "a_list[x+1 : x+2 : x+3]\n",
       "\n",
       "# You omit the space if you omit a slice parameter.\n",
       "a_list[x+1 : x+2 :]"
      ]
     },
     {
      "cell_type": "markdown",
      "metadata": {},
      "source": [
       "In summary, you should surround most operators with whitespace. However, there are some caveats to this rule, such as in function arguments or when you’re combining multiple operators in one statement.\n",
       "\n",
       "### **When to Avoid Adding Whitespace**\n",
       "\n",
       "In some cases, adding whitespace can make your code harder to read. Too much whitespace can make code overly sparse and difficult to follow. PEP 8 outlines very clear examples where whitespace is inappropriate.\n",
       "\n",
       "The most important place to avoid adding whitespace is at the end of a line. This is known as **trailing whitespace**. It’s invisible and can produce noisy diffs when working with [version control](https://realpython.com/python-git-github-intro/) and may even produce errors in some situations:"
      ]
     },
     {
      "cell_type": "code",
      "execution_count": null,
      "metadata": {
       "tags": []
      },
      "outputs": [],
      "source": [
       "x = 1 + 2 + \\ \n",
       "    3 + 4"
      ]
     },
     {
      "cell_type": "markdown",
      "metadata": {},
      "source": [
       "In the example file above, you attempted to continue the assignment expression over two lines using the line continuation marker. However, you left a trailing whitespace after the backslash (`\\`) and before the newline character.\n",
       "\n",
       "This trailing whitespace prevents Python from understanding it as a line-continuation marker and will cause a syntax error:"
      ]
     },
     {
      "cell_type": "raw",
      "metadata": {},
      "source": [
       "!python trailing_whitespace.py\n",
       "  File \"trailing_whitespace.py\", line 1\n",
       "    x = 1 + 2 + \\ \n",
       "                 ^\n",
       "SyntaxError: unexpected character after line continuation character"
      ]
     },
     {
      "cell_type": "markdown",
      "metadata": {},
      "source": [
       "While Python will notice the problem and inform you about it, it’s best practice to just avoid any trailing whitespace in your Python code.\n",
       "\n",
       "PEP 8 also outlines some other cases where you should *avoid* whitespace:\n",
       "\n",
       "- Immediately inside parentheses, brackets, or braces:"
      ]
     },
     {
      "cell_type": "code",
      "execution_count": null,
      "metadata": {
       "tags": []
      },
      "outputs": [],
      "source": [
       "# ✅ Recommended\n",
       "numbers = [1, 2, 3]\n",
       "\n",
       "# ❌ Not recommended\n",
       "numbers = [ 1, 2, 3, ]"
      ]
     },
     {
      "cell_type": "markdown",
      "metadata": {},
      "source": [
       "- Before a comma, semicolon, or colon:"
      ]
     },
     {
      "cell_type": "code",
      "execution_count": null,
      "metadata": {
       "tags": []
      },
      "outputs": [],
      "source": [
       "x = 5\n",
       "y = 6\n",
       "\n",
       "# ✅ Recommended\n",
       "print(x, y)\n",
       "\n",
       "# ❌ Not recommended\n",
       "print(x , y)"
      ]
     },
     {
      "cell_type": "markdown",
      "metadata": {},
      "source": [
       "- Before the opening parenthesis that starts the argument list of a function call:"
      ]
     },
     {
      "cell_type": "code",
      "execution_count": null,
      "metadata": {
       "tags": []
      },
      "outputs": [],
      "source": [
       "def double(x):\n",
       "    return x * 2\n",
       "\n",
       "# ✅ Recommended\n",
       "double(3)\n",
       "\n",
       "# ❌ Not recommended\n",
       "double (3)"
      ]
     },
     {
      "cell_type": "markdown",
      "metadata": {},
      "source": [
       "- Before the open bracket that starts an index or slice:"
      ]
     },
     {
      "cell_type": "raw",
      "metadata": {
       "tags": []
      },
      "source": [
       "# ✅ Recommended\n",
       "a_list[3]\n",
       "\n",
       "# ❌ Not recommended\n",
       "a_list [3]"
      ]
     },
     {
      "cell_type": "markdown",
      "metadata": {},
      "source": [
       "- Between a trailing comma and a closing parenthesis:"
      ]
     },
     {
      "cell_type": "code",
      "execution_count": null,
      "metadata": {
       "tags": []
      },
      "outputs": [],
      "source": [
       "# ✅ Recommended\n",
       "a_tuple = (1,)\n",
       "\n",
       "# ❌ Not recommended\n",
       "a_tuple = (1, )"
      ]
     },
     {
      "cell_type": "markdown",
      "metadata": {},
      "source": [
       "- To align assignment operators:"
      ]
     },
     {
      "cell_type": "code",
      "execution_count": null,
      "metadata": {
       "tags": []
      },
      "outputs": [],
      "source": [
       "# ✅ Recommended\n",
       "var1 = 5\n",
       "var2 = 6\n",
       "some_long_var = 7\n",
       "\n",
       "# ❌ Not recommended\n",
       "var1          = 5\n",
       "var2          = 6\n",
       "some_long_var = 7"
      ]
     },
     {
      "cell_type": "markdown",
      "metadata": {},
      "source": [
       "    The most important takeaway is to make sure that there’s no trailing whitespace anywhere in your code. Then, there are other cases where PEP 8 discourages adding extra whitespace, such as immediately inside brackets, as well as before commas and colons. You also shouldn’t add extra whitespace in order to align operators.\n",
       "    \n",
       "\n",
       "## **Programming Recommendations**\n",
       "\n",
       "You’ll often find that there are several ways to perform a similar action in Python, as in any other programming language. In this section, you’ll see some of the suggestions that PEP 8 provides to remove that ambiguity and preserve consistency.\n",
       "\n",
       "- **Don’t compare Boolean values to `True` or `False` using the equivalence operator.** You’ll often need to check if a [Boolean value](https://realpython.com/python-boolean/) is true or false. You may want to do this with a statement like the one below:"
      ]
     },
     {
      "cell_type": "code",
      "execution_count": null,
      "metadata": {
       "tags": []
      },
      "outputs": [],
      "source": [
       "# Not recommended\n",
       "is_bigger = 6 > 5\n",
       "if is_bigger == True:\n",
       "    print(\"6 is bigger than 5\")"
      ]
     },
     {
      "cell_type": "markdown",
      "metadata": {},
      "source": [
       "    The use of the equivalence operator (`==`) is unnecessary here. `bool` can only take values `True` or `False`. It’s enough to write the following:"
      ]
     },
     {
      "cell_type": "code",
      "execution_count": null,
      "metadata": {
       "tags": []
      },
      "outputs": [],
      "source": [
       "is_bigger = 6 > 5\n",
       "if is_bigger:\n",
       "    print(\"6 is bigger than 5\")"
      ]
     },
     {
      "cell_type": "markdown",
      "metadata": {},
      "source": [
       "- **Use the fact that empty sequences are falsy in `if` statements.** If you want to check whether a list is empty, you might be tempted to check the length of the list. If the list is empty, then its length is `0` which is equivalent to `False` when you use it in an `if` statement. Here’s an example:"
      ]
     },
     {
      "cell_type": "code",
      "execution_count": null,
      "metadata": {
       "tags": []
      },
      "outputs": [],
      "source": [
       "# Not recommended\n",
       "a_list = []\n",
       "if not len(a_list):\n",
       "    print(\"List is empty!\")"
      ]
     },
     {
      "cell_type": "markdown",
      "metadata": {},
      "source": [
       "    However, in Python any empty list, string, or tuple is [falsy](https://docs.python.org/3/library/stdtypes.html#truth-value-testing). You can therefore come up with a simpler alternative to the above:"
      ]
     },
     {
      "cell_type": "code",
      "execution_count": null,
      "metadata": {
       "tags": []
      },
      "outputs": [],
      "source": [
       "a_list = []\n",
       "if not a_list:\n",
       "    print(\"List is empty!\")"
      ]
     },
     {
      "cell_type": "markdown",
      "metadata": {},
      "source": [
       "    While both examples will print out `List is empty!`, the second option is more straightforward to read and understand, so PEP 8 encourages it.\n",
       "    \n",
       "- **Use `is not` rather than `not ... is` in `if` statements.** If you’re trying to check whether a variable has a defined value, there are two options. The first is to evaluate an `if` statement with `x is not None`, as in the example below:"
      ]
     },
     {
      "cell_type": "code",
      "execution_count": null,
      "metadata": {
       "tags": []
      },
      "outputs": [],
      "source": [
       "if x is not None:\n",
       "    print(\"x exists!\")"
      ]
     },
     {
      "cell_type": "markdown",
      "metadata": {},
      "source": [
       "    A second option would be to evaluate `x is None` and then have an `if` statement based on `not` the outcome:"
      ]
     },
     {
      "cell_type": "code",
      "execution_count": null,
      "metadata": {
       "tags": []
      },
      "outputs": [],
      "source": [
       "# Not recommended\n",
       "if not x is None:\n",
       "    print(\"x exists!\")"
      ]
     },
     {
      "cell_type": "markdown",
      "metadata": {},
      "source": [
       "    While Python will evaluate both options correctly, the first is more straightforward, so PEP 8 encourages it.\n",
       "    \n",
       "- **Don’t use `if x:` when you mean `if x is not None:`.** Sometimes, you may have a function with arguments that are `None` by default. A common mistake when checking if such an argument, `arg`, has a different value is to use the following:"
      ]
     },
     {
      "cell_type": "raw",
      "metadata": {
       "tags": []
      },
      "source": [
       "# Not recommended\n",
       "if arg:\n",
       "    print(arg)"
      ]
     },
     {
      "cell_type": "markdown",
      "metadata": {},
      "source": [
       "    This code checks that `arg` is truthy. Instead, you want to check that `arg` is `not None`, so it’s better to use the following:"
      ]
     },
     {
      "cell_type": "raw",
      "metadata": {
       "tags": []
      },
      "source": [
       "if arg is not None:\n",
       "    print(arg)"
      ]
     },
     {
      "cell_type": "markdown",
      "metadata": {},
      "source": [
       "    The mistake here is assuming that `not None` and truthy are equivalent, but they aren’t. You could have set `arg` to an empty list (`[]`). As you saw above, empty lists are also evaluated as falsy in Python. So, even though you assigned a value to `arg`, the condition isn’t met, and Python won’t execute the code in the body of the `if` statement:"
      ]
     },
     {
      "cell_type": "code",
      "execution_count": null,
      "metadata": {
       "tags": []
      },
      "outputs": [],
      "source": [
       "arg = []\n",
       "\n",
       "if arg:\n",
       "    print(arg)\n",
       "\n",
       "if arg is not None:\n",
       "    print(arg)"
      ]
     },
     {
      "cell_type": "markdown",
      "metadata": {},
      "source": [
       "    You can see that the two approaches produce different results when you’re working with values that are falsy in Python.\n",
       "    \n",
       "- **Use `.startswith()` and `.endswith()` instead of slicing.** If you were trying to check if the string `word` was prefixed or suffixed with the word *cat*, then it might seem sensible to use [list slicing](https://realpython.com/python-strings/#string-slicing). However, list slicing is prone to error, and you have to hard-code the number of characters in the prefix or suffix. It’s also not clear to someone less familiar with Python list slicing what you’re trying to achieve:"
      ]
     },
     {
      "cell_type": "code",
      "execution_count": null,
      "metadata": {
       "tags": []
      },
      "outputs": [],
      "source": [
       "# Not recommended\n",
       "word = 'cats'\n",
       "if word[:3] == \"cat\":\n",
       "    print(\"The word starts with 'cat'\")"
      ]
     },
     {
      "cell_type": "markdown",
      "metadata": {},
      "source": [
       "    However, this isn’t as readable as using `.startswith()`:"
      ]
     },
     {
      "cell_type": "code",
      "execution_count": null,
      "metadata": {
       "tags": []
      },
      "outputs": [],
      "source": [
       "if word.startswith(\"cat\"):\n",
       "    print(\"The word starts with 'cat'\")"
      ]
     },
     {
      "cell_type": "markdown",
      "metadata": {},
      "source": [
       "    Similarly, the same principle applies when you’re checking for suffixes. The example below outlines how you might check whether a string ends in `\"jpg\"`:"
      ]
     },
     {
      "cell_type": "raw",
      "metadata": {
       "tags": []
      },
      "source": [
       "# Not recommended\n",
       "if file_name[-4:] == \".jpg\":\n",
       "    print(\"The file is a JPEG\")"
      ]
     },
     {
      "cell_type": "markdown",
      "metadata": {},
      "source": [
       "    While the outcome is correct, the notation is a bit clunky and hard to read. Instead, you could use `.endswith()` as in the example below:"
      ]
     },
     {
      "cell_type": "raw",
      "metadata": {},
      "source": [
       "if file_name.endswith(\".jpg\"):\n",
       "    print(\"The file is a JPEG\")"
      ]
     },
     {
      "cell_type": "markdown",
      "metadata": {},
      "source": [
       "    As with most of these programming recommendations, the goal is readability and simplicity. In Python, there are many different ways to perform the same action, so guidelines on which methods to chose can be helpful.\n",
       "    \n",
       "\n",
       "## **When to Ignore PEP 8**\n",
       "\n",
       "- If complying with PEP 8 would break compatibility with existing software\n",
       "- If code surrounding what you’re working on is inconsistent with PEP 8\n",
       "- If code needs to remain compatible with older versions of Python\n",
       "\n",
       "## **Tips and Tricks to Help Ensure Your Code Follows PEP 8**\n",
       "\n",
       "There are two classes of tools that can help you enforce these style rules: **linters** and **autoformatters**.\n",
       "\n",
       "### **Linters**\n",
       "\n",
       "[Linters](https://en.wikipedia.org/wiki/Lint_(software)) are programs that analyze code and flag errors. They provide suggestions on how to fix each error. Linters are particularly useful when installed as extensions to your text editor, as they flag errors and stylistic problems while you write your code. In this section, you’ll see an outline of how some popular linters work, with links to the text editor extensions at the end.\n",
       "Some good linters for Python code are **`pycodestyle`**, **`flake8`**, and **`ruff`**. You can try them out with the following code snippet that contains formatting that isn’t compliant with PEP 8:"
      ]
     },
     {
      "cell_type": "code",
      "execution_count": null,
      "metadata": {},
      "outputs": [],
      "source": [
       "import math\n",
       "\n",
       "numbers = [1,2,\\ \n",
       "3,4]\n",
       "\n",
       "def add_all_numbers_from_collection(\n",
       "    number_one, number_two, number_three,\n",
       "    number_four):\n",
       "    return number_one+number_two + number_three +number_four\n",
       "\n",
       "print (add_all_numbers_from_collection( *numbers ))"
      ]
     },
     {
      "cell_type": "markdown",
      "metadata": {},
      "source": [
       "\n",
       "You can install `flake8` using `pip`:\n",
       "\n"
      ]
     },
     {
      "cell_type": "code",
      "execution_count": null,
      "metadata": {
       "tags": []
      },
      "outputs": [],
      "source": [
       "!python -m pip install flake8"
      ]
     },
     {
      "cell_type": "markdown",
      "metadata": {},
      "source": [
       "\n",
       "Then, you can run `flake8` from the terminal and pass it the file that you want to check as an argument:\n",
       "\n"
      ]
     },
     {
      "cell_type": "code",
      "execution_count": null,
      "metadata": {
       "tags": []
      },
      "outputs": [],
      "source": [
       "!flake8 unfashionable.py\n",
       "unfashionable.py:1:18: E999 SyntaxError: unexpected character after line continuation character"
      ]
     },
     {
      "cell_type": "markdown",
      "metadata": {},
      "source": [
       "Oh! It looks like your code also contained a syntax error in addition to all the formatting mess! While `pycodestyle` didn’t flag it, `flake8` identifies the error and shows you how to fix it.\n",
       "\n",
       "After you’ve fixed the syntax error by removing the [trailing whitespace](https://realpython.com/python-pep8/#when-to-avoid-adding-whitespace) in line 3, running `flake8` again will show nearly the same style violations as you’ve seen before:"
      ]
     },
     {
      "cell_type": "code",
      "execution_count": null,
      "metadata": {
       "tags": []
      },
      "outputs": [],
      "source": [
       "!flake8 unfashionable.py\n",
       "unfashionable.py:1:1: F401 'math' imported but unused\n",
       "unfashionable.py:3:13: E231 missing whitespace after ','\n",
       "unfashionable.py:3:15: E231 missing whitespace after ','\n",
       "unfashionable.py:3:16: E502 the backslash is redundant between brackets\n",
       "unfashionable.py:4:1: E128 continuation line under-indented for visual indent\n",
       "unfashionable.py:4:2: E231 missing whitespace after ','\n",
       "unfashionable.py:6:1: E302 expected 2 blank lines, found 1\n",
       "unfashionable.py:8:5: E125 continuation line with same indent as next logical line\n",
       "unfashionable.py:9:50: E225 missing whitespace around operator\n",
       "unfashionable.py:11:1: E305 expected 2 blank lines after class or function definition, found 1\n",
       "unfashionable.py:11:6: E211 whitespace before '('\n",
       "unfashionable.py:11:40: E201 whitespace after '('\n",
       "unfashionable.py:11:49: E202 whitespace before ')'\n",
       "unfashionable.py:11:52: W292 no newline at end of file"
      ]
     },
     {
      "cell_type": "markdown",
      "metadata": {},
      "source": [
       "In addition to the PEP 8 style violations marked as [`E` errors](https://flake8.pycqa.org/en/2.5.5/warnings.html), you also got an `F` error type. That error tells you that you have an unused import of the `math` module in your script.\n",
       "While `pycodestyle` purely lints PEP 8 style violations, `flake8` combines multiple tools and can therefore also help you to identify syntax errors, logical errors such as unused imports, and even complexity issues. You’ll explore `ruff` soon."
      ]
     },
     {
      "cell_type": "raw",
      "metadata": {},
      "source": [
       "Note: Another popular linter for your Python code is pylint."
      ]
     },
     {
      "cell_type": "markdown",
      "metadata": {},
      "source": [
       "### **Autoformatters**\n",
       "\n",
       "Autoformatters are programs that refactor your code to conform with PEP 8 automatically. Once such program is [`black`](https://pypi.org/project/black/), which autoformats code following *most* of the rules in PEP 8. One big difference is that it limits line length to 88 characters, rather than 79. However, you can overwrite this by adding a command line flag, as you’ll see in an example below.\n",
       "\n",
       "You can install `black` using `pip`:"
      ]
     },
     {
      "cell_type": "raw",
      "metadata": {
       "tags": []
      },
      "source": [
       "!python -m pip install black"
      ]
     },
     {
      "cell_type": "markdown",
      "metadata": {},
      "source": [
       "You can run `black` through the command line, same as you did with the linters before. Take another look at the code in `unfashionable.py` that you want to fix:"
      ]
     },
     {
      "cell_type": "code",
      "execution_count": null,
      "metadata": {
       "tags": []
      },
      "outputs": [],
      "source": [
       "import math\n",
       "\n",
       "numbers = [1,2,\\\n",
       "3,4]\n",
       "\n",
       "def add_all_numbers_from_collection(\n",
       "    number_one, number_two, number_three,\n",
       "    number_four):\n",
       "    return number_one+number_two + number_three +number_four\n",
       "\n",
       "print (add_all_numbers_from_collection( *numbers ))"
      ]
     },
     {
      "cell_type": "markdown",
      "metadata": {},
      "source": [
       "Note that this version of the code doesn’t include the trailing whitespace that you fixed earlier on. If your code would produce a syntax error, then `black` will tell you about it and won’t be able to format your code until you’ve fixed the error.\n",
       "\n",
       "You can then run the following command through the command line:"
      ]
     },
     {
      "cell_type": "raw",
      "metadata": {
       "tags": []
      },
      "source": [
       "!black unfashionable.py\n",
       "reformatted unfashionable.py\n",
       "\n",
       "All done! ✨ 🍰 ✨\n",
       "1 file reformatted."
      ]
     },
     {
      "cell_type": "markdown",
      "metadata": {},
      "source": [
       "After `black` has automatically reformatted `unfashionable.py`, it’ll look like this:"
      ]
     },
     {
      "cell_type": "code",
      "execution_count": null,
      "metadata": {
       "tags": []
      },
      "outputs": [],
      "source": [
       "import math\n",
       "\n",
       "numbers = [1, 2, 3, 4]\n",
       "\n",
       "def add_all_numbers_from_collection(number_one, number_two, number_three, number_four):\n",
       "    return number_one + number_two + number_three + number_four\n",
       "\n",
       "print(add_all_numbers_from_collection(*numbers))"
      ]
     },
     {
      "cell_type": "markdown",
      "metadata": {},
      "source": [
       "That looks significantly better than before, but all the arguments to `add_all_numbers_from_collection()` make the function definition zoom right past the PEP 8 suggested 79-character limit. As you learned before, `black` uses 88 characters as the limit instead.\n",
       "\n",
       "If you want to alter the line length limit, then you can use the `--line-length` flag:"
      ]
     },
     {
      "cell_type": "raw",
      "metadata": {},
      "source": [
       "!black --line-length=79 unfashionable.py\n",
       "reformatted unfashionable.py\n",
       "\n",
       "All done! ✨ 🍰 ✨\n",
       "1 file reformatted."
      ]
     },
     {
      "cell_type": "markdown",
      "metadata": {},
      "source": [
       "After you limited the line length in the second run, your autoformatted code now looks great and nicely follows the style guide for Python code:"
      ]
     },
     {
      "cell_type": "code",
      "execution_count": null,
      "metadata": {
       "tags": []
      },
      "outputs": [],
      "source": [
       "import math\n",
       "\n",
       "numbers = [1, 2, 3, 4]\n",
       "\n",
       "def add_all_numbers_from_collection(\n",
       "    number_one, number_two, number_three, number_four\n",
       "):\n",
       "    return number_one + number_two + number_three + number_four\n",
       "\n",
       "print(add_all_numbers_from_collection(*numbers))"
      ]
     },
     {
      "cell_type": "markdown",
      "metadata": {},
      "source": [
       "However, you may have noticed that there’s still the unused import of `math` at the top of your file. You can still identify the issue when you check your file using `flake8`:"
      ]
     },
     {
      "cell_type": "code",
      "execution_count": null,
      "metadata": {
       "tags": []
      },
      "outputs": [],
      "source": [
       "!flake8 unfashionable.py\n",
       "unfashionable.py:1:1: F401 'math' imported but unused"
      ]
     },
     {
      "cell_type": "markdown",
      "metadata": {},
      "source": [
       "Wouldn’t it be nice if there was a tool that combined linting and formatting under one roof?\n",
       "\n",
       "# **Imports in PEP 8**\n",
       "\n",
       "- Imports should usually be on separate lines:"
      ]
     },
     {
      "cell_type": "code",
      "execution_count": null,
      "metadata": {
       "tags": []
      },
      "outputs": [],
      "source": [
       "# Correct:\n",
       "import os\n",
       "import sys"
      ]
     },
     {
      "cell_type": "markdown",
      "metadata": {},
      "source": [
       "    \n"
      ]
     },
     {
      "cell_type": "code",
      "execution_count": null,
      "metadata": {
       "tags": []
      },
      "outputs": [],
      "source": [
       "# Wrong:\n",
       "import sys, os"
      ]
     },
     {
      "cell_type": "markdown",
      "metadata": {},
      "source": [
       "    It’s okay to say this though:"
      ]
     },
     {
      "cell_type": "code",
      "execution_count": null,
      "metadata": {
       "tags": []
      },
      "outputs": [],
      "source": [
       "# Correct:\n",
       "from subprocess import Popen, PIPE"
      ]
     },
     {
      "cell_type": "markdown",
      "metadata": {},
      "source": [
       "- **Imports are always put at the top of the file**, just after any module comments and docstrings, and before module globals and constants.\n",
       "    \n",
       "    Imports should be grouped in the following order:\n",
       "    \n",
       "    1. Standard library imports.\n",
       "    2. Related third party imports.\n",
       "    3. Local application/library specific imports.\n",
       "    \n",
       "    You should put a blank line between each group of imports."
      ]
     },
     {
      "cell_type": "code",
      "execution_count": null,
      "metadata": {
       "tags": []
      },
      "outputs": [],
      "source": [
       "# Standard library\n",
       "import os\n",
       "import sys\n",
       "import json\n",
       "\n",
       "# Third-party\n",
       "import numpy as np\n",
       "import pandas as pd\n",
       "\n",
       "# Local imports\n",
       "from . import helper\n",
       "from .utils.converters import convert_to_float"
      ]
     },
     {
      "cell_type": "markdown",
      "metadata": {},
      "source": [
       "<aside>\n",
       "💡 Imports should be grouped in the following order:\n",
       "\n",
       "- Standard library imports:\n",
       "Importing modules that are part of Python's built-in standard library, which comes pre-installed with Python. These don't require additional installation.\n",
       "- Related third party imports:\n",
       "Importing external modules or packages that are not part of the standard library. These typically need to be installed separately using tools like pip.\n",
       "- Local application/library specific imports:\n",
       "Importing modules or packages that are part of your own project or application. These are custom modules you've created or that are specific to your current project.\n",
       "</aside>\n",
       "    \n",
       "- **Avoid relative package imports:** Use the absolute package name instead of relative imports like **`from .utils import helper`**.\n",
       "- **Absolute imports are recommended**, as they are usually more readable and tend to be better behaved (or at least give better error messages) if the import system is incorrectly configured (such as when a directory inside a package ends up on `sys.path`):"
      ]
     },
     {
      "cell_type": "raw",
      "metadata": {
       "tags": []
      },
      "source": [
       "import mypkg.sibling\n",
       "from mypkg import sibling\n",
       "from mypkg.sibling import example"
      ]
     },
     {
      "cell_type": "markdown",
      "metadata": {},
      "source": [
       "<aside>\n",
       "💡 In the context of PEP 8 style conventions, absolute imports refer to a way of importing modules in Python that uses the full path from the root of the project, rather than relying on the current module's location.\n",
       "\n",
       "For example, instead of:"
      ]
     },
     {
      "cell_type": "raw",
      "metadata": {
       "tags": []
      },
      "source": [
       "from .models import User"
      ]
     },
     {
      "cell_type": "markdown",
      "metadata": {},
      "source": [
       "An absolute import would be:"
      ]
     },
     {
      "cell_type": "code",
      "execution_count": null,
      "metadata": {},
      "outputs": [],
      "source": [
       "from myproject.app.models import User"
      ]
     },
     {
      "cell_type": "markdown",
      "metadata": {},
      "source": [
       "</aside>\n",
       "    \n",
       "    However, explicit relative imports are an acceptable alternative to absolute imports, especially when dealing with complex package layouts where using absolute imports would be unnecessarily verbose:"
      ]
     },
     {
      "cell_type": "code",
      "execution_count": null,
      "metadata": {},
      "outputs": [],
      "source": [
       "from . import sibling\n",
       "from .sibling import exampleaq12231"
      ]
     },
     {
      "cell_type": "markdown",
      "metadata": {},
      "source": [
       "    Standard library code should avoid complex package layouts and always use absolute imports.\n",
       "    \n",
       "<aside>\n",
       "💡 The hierarchy of modules, libraries, packages, and frameworks in Python can be understood as follows, from smallest to largest:\n",
       "\n",
       "- Modules:\n",
       "    - The smallest unit in this hierarchy.\n",
       "    - A single Python file containing Python code (functions, classes, variables).\n",
       "    - it's a small piece of code that performs a specific task\n",
       "    - Can be imported and used in other Python files.\n",
       "- Packages:\n",
       "    - A collection of modules.\n",
       "    - It groups related modules that perform similar tasks.\n",
       "    - Typically a directory containing multiple Python modules and a special **init**.py file.\n",
       "    - Allows for hierarchical structuring of the module namespace.\n",
       "- Libraries:\n",
       "    - A collection of packages and modules.\n",
       "    - In software, a library is a collection of reusable packages that address common needs.\n",
       "    - Provides reusable code for specific functionality.\n",
       "    - Can be installed and used across different projects.\n",
       "    - Examples: NumPy, Pandas, Requests.\n",
       "- Frameworks:\n",
       "    - The largest and most comprehensive in the hierarchy.\n",
       "    - Provides a structure for developing software applications.\n",
       "    - Often includes libraries, tools, and conventions.\n",
       "    - Examples: Django, Flask, FastAPI for web development.\n",
       "    - Think of a framework as a pre-built house. It provides a complete structure with predefined walls, plumbing, and electrical systems (think core functionalities). While you can't change the overall layout, you can customize the interior (your specific program logic) to fit your needs. Frameworks enforce certain design principles and offer a faster way to build applications.\n",
       "\n",
       "It's worth noting that the terms \"library\" and \"framework\" are sometimes used interchangeably, though they have distinct characteristics. The main difference is that your code calls a library, whereas a framework calls your code.\n",
       "\n",
       "</aside>\n",
       "    \n",
       "- When importing a class from a class-containing module, it’s usually okay to spell this:"
      ]
     },
     {
      "cell_type": "raw",
      "metadata": {
       "tags": []
      },
      "source": [
       "from myclass import MyClass\n",
       "from foo.bar.yourclass import YourClass"
      ]
     },
     {
      "cell_type": "markdown",
      "metadata": {},
      "source": [
       "    If this spelling causes local name clashes, then spell them explicitly:"
      ]
     },
     {
      "cell_type": "raw",
      "metadata": {},
      "source": [
       "import myclass\n",
       "import foo.bar.yourclass"
      ]
     },
     {
      "cell_type": "markdown",
      "metadata": {},
      "source": [
       "- Wildcard imports (`from <module> import *`) should be avoided, as they make it unclear which names are present in the namespace, confusing both readers and many automated tools. There is one defensible use case for a wildcard import, which is to republish an internal interface as part of a public API (for example, overwriting a pure Python implementation of an interface with the definitions from an optional accelerator module and exactly which definitions will be overwritten isn’t known in advance).\n",
       "    \n",
       "    When republishing names this way, the guidelines below regarding public and internal interfaces still apply.\n",
       "    \n",
       "\n",
       "### Conclusions:\n",
       "\n",
       "In the context of PEP 8 (Python's official style guide), both absolute and relative imports are discussed, but absolute imports are generally preferred.\n",
       "\n",
       "1. **Absolute Imports:**\n",
       "- Use the full path from the root of the project to import modules.\n",
       "- Syntax doesn't use leading dots.\n",
       "- Considered more explicit and readable.\n",
       "- Preferred in PEP 8 for most cases.\n",
       "\n",
       "Example of absolute import:"
      ]
     },
     {
      "cell_type": "raw",
      "metadata": {},
      "source": [
       "from myproject.app.models import User\n",
       "from myproject.app.utils import helper_function"
      ]
     },
     {
      "cell_type": "markdown",
      "metadata": {},
      "source": [
       "1. **Relative Imports:**\n",
       "- Use the relative path from the current module to import.\n",
       "- Syntax uses leading dots to indicate how many directories to go up.\n",
       "- Can be more concise but potentially less clear.\n",
       "- PEP 8 suggests limiting their use to specific cases.\n",
       "\n",
       "Example of relative import:"
      ]
     },
     {
      "cell_type": "raw",
      "metadata": {},
      "source": [
       "from ..models import User\n",
       "from .utils import helper_function"
      ]
     },
     {
      "cell_type": "markdown",
      "metadata": {},
      "source": [
       "Key differences in PEP 8 context:\n",
       "\n",
       "1. Clarity: PEP 8 emphasizes code readability. Absolute imports are often clearer, especially for those unfamiliar with the project structure.\n",
       "2. Maintainability: Absolute imports are less likely to break if files are moved within the project.\n",
       "3. Explicitness: PEP 8 values explicit over implicit. Absolute imports explicitly show the full path.\n",
       "4. Consistency: PEP 8 recommends using absolute imports consistently throughout a project.\n",
       "5. Use cases: While PEP 8 generally prefers absolute imports, it acknowledges that relative imports can be useful in certain situations, particularly within complex package structures.\n",
       "6. Python 3 compatibility: Absolute imports are more consistent with Python 3's import system.\n",
       "\n",
       "# Pylint\n",
       "\n",
       "### **What is Pylint?**\n",
       "\n",
       "Pylint is a [static code analyser](https://en.wikipedia.org/wiki/Static_code_analysis) for Python 2 or 3. The latest version supports Python 3.8.0 and above.\n",
       "\n",
       "Pylint analyses your code without actually running it. It checks for errors, enforces a coding standard, looks for [code smells](https://martinfowler.com/bliki/CodeSmell.html), and can make suggestions about how the code could be refactored.\n",
       "\n",
       " Pylint can tell you where you may have run astray and point you in the direction to figure out what you have done and how to do better.\n",
       "\n",
       "### **Getting Started**\n",
       "\n",
       "Running “pylint -help” on the command line will invoke the help dialog and give you an idea of the available arguments. Do it now, i.e."
      ]
     },
     {
      "cell_type": "raw",
      "metadata": {},
      "source": [
       "robertk01 Desktop!pylint --help\n",
       "...\n",
       "a bunch of stuff\n",
       "..."
      ]
     },
     {
      "cell_type": "markdown",
      "metadata": {},
      "source": [
       "A couple of the options that we’ll focus on here are:"
      ]
     },
     {
      "cell_type": "raw",
      "metadata": {},
      "source": [
       "Master:\n",
       "  --generate-rcfile=<file>\n",
       "Commands:\n",
       "  --help-msg=<msg-id>\n",
       "Commands:\n",
       "  --help-msg=<msg-id>\n",
       "Message control:\n",
       "  --disable=<msg-ids>\n",
       "Reports:\n",
       "  --files-output=<y_or_n>\n",
       "  --reports=<y_or_n>\n",
       "  --output-format=<format>"
      ]
     },
     {
      "cell_type": "markdown",
      "metadata": {},
      "source": [
       "Also pay attention to the last bit of help output. This gives you a hint of what Pylint is going to ‘pick on’:"
      ]
     },
     {
      "cell_type": "raw",
      "metadata": {},
      "source": [
       "Output:\n",
       "   Using the default text output, the message format is :\n",
       "  MESSAGE_TYPE: LINE_NUM:[OBJECT:] MESSAGE\n",
       "  There are 5 kind of message types :\n",
       "  * (C) convention, for programming standard violation\n",
       "  * (R) refactor, for bad code smell\n",
       "  * (W) warning, for python specific problems\n",
       "  * (E) error, for much probably bugs in the code\n",
       "  * (F) fatal, if an error occurred which prevented pylint from doing\n",
       "  further processing."
      ]
     },
     {
      "cell_type": "markdown",
      "metadata": {},
      "source": [
       "When Pylint is first run on a fresh piece of code, a common complaint is that it is too ‘noisy’. The current default configuration is set to enforce all possible warnings. We’ll use some of the options I noted above to make it suit your preferences a bit better (and thus make it ‘scream only when needed’)."
      ]
     }
    ],
    "metadata": {
     "kernelspec": {
      "display_name": "Python 3 (ipykernel)",
      "language": "python",
      "name": "python3"
     },
     "language_info": {
      "codemirror_mode": {
       "name": "ipython",
       "version": 3
      },
      "file_extension": ".py",
      "mimetype": "text/x-python",
      "name": "python",
      "nbconvert_exporter": "python",
      "pygments_lexer": "ipython3",
      "version": "3.10.9"
     }
    },
    "nbformat": 4,
    "nbformat_minor": 4
   }
   